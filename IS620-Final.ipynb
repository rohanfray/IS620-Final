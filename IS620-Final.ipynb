{
 "cells": [
  {
   "cell_type": "markdown",
   "metadata": {},
   "source": [
    "### Initial Loading of Data from our data file"
   ]
  },
  {
   "cell_type": "code",
   "execution_count": 21,
   "metadata": {
    "collapsed": false
   },
   "outputs": [],
   "source": [
    "import cPickle as pickle\n",
    "import nltk\n",
    "from nltk import word_tokenize\n"
   ]
  },
  {
   "cell_type": "code",
   "execution_count": 3,
   "metadata": {
    "collapsed": false
   },
   "outputs": [],
   "source": [
    "f = pickle.load(open('test4','rb'))"
   ]
  },
  {
   "cell_type": "code",
   "execution_count": 4,
   "metadata": {
    "collapsed": false
   },
   "outputs": [
    {
     "data": {
      "text/plain": [
       "list"
      ]
     },
     "execution_count": 4,
     "metadata": {},
     "output_type": "execute_result"
    }
   ],
   "source": [
    "type(f)"
   ]
  },
  {
   "cell_type": "code",
   "execution_count": 5,
   "metadata": {
    "collapsed": false
   },
   "outputs": [
    {
     "data": {
      "text/plain": [
       "330071"
      ]
     },
     "execution_count": 5,
     "metadata": {},
     "output_type": "execute_result"
    }
   ],
   "source": [
    "len(f)"
   ]
  },
  {
   "cell_type": "markdown",
   "metadata": {},
   "source": [
    "So we have a list of 330k reviews composing the 250 closest businesses around 30 universities (see https://www.yelp.com/academic_dataset for more info).  In our previous step we created the this list of jsons from the overall dataset, removing items that dealt with users and businesses and keeping only records that dealt with reviews. "
   ]
  },
  {
   "cell_type": "code",
   "execution_count": 6,
   "metadata": {
    "collapsed": false
   },
   "outputs": [
    {
     "data": {
      "text/plain": [
       "{u'business_id': u'jTPr0dFk2JgGYdDiIGro3Q',\n",
       " u'date': u'2007-12-11',\n",
       " u'review_id': u'sVI08gDOu79XzELwaRDiQw',\n",
       " u'stars': 5,\n",
       " u'text': u'After enduring years of crappy, undercooked, bad pizza in and around Ann Arbor (a la pizza house, cottage inn, and the like), Silvio\\'s brings real pizza to town. Real pizza should be thin, have a crispy, bubbly, sourdough crust and be full of flavor, not grease, and this is the only place to get it.\\n\\nDon\\'t be fooled by the \"organic\" part of the name, it really should be called \"Silvio\\'s Italian Pizza\"\\n\\nBeware though, the more toppings you get on this pizza, the less well it cooks all the way through, and the less of a full pizza experience you get. The Margherita is a little light on the cheese, my only complaint.',\n",
       " u'type': u'review',\n",
       " u'user_id': u'NNFVXXEkb9Ur2ihVk_lW7A',\n",
       " u'votes': {u'cool': 0, u'funny': 0, u'useful': 0}}"
      ]
     },
     "execution_count": 6,
     "metadata": {},
     "output_type": "execute_result"
    }
   ],
   "source": [
    "f[11]"
   ]
  },
  {
   "cell_type": "markdown",
   "metadata": {
    "collapsed": true
   },
   "source": [
    "Each item has the id for the business, user and review as well as the type and the date that this was created.  There is also the votes item which is a measure of how cool, funny, or useful other users found this review. The relevant fields for us however are text and stars."
   ]
  },
  {
   "cell_type": "code",
   "execution_count": 13,
   "metadata": {
    "collapsed": false
   },
   "outputs": [],
   "source": [
    "s = f[7798]"
   ]
  },
  {
   "cell_type": "code",
   "execution_count": 18,
   "metadata": {
    "collapsed": false
   },
   "outputs": [
    {
     "data": {
      "text/plain": [
       "[(u'Needs', 'NNP'),\n",
       " (u'work', 'NN'),\n",
       " (u'!', '.'),\n",
       " (u'The', 'DT'),\n",
       " (u'stylist', 'NN'),\n",
       " (u'who', 'WP'),\n",
       " (u'cut', 'VBD'),\n",
       " (u'my', 'PRP$'),\n",
       " (u'hair', 'NN'),\n",
       " (u'today', 'NN'),\n",
       " (u'reeked', 'VBD'),\n",
       " (u'of', 'IN'),\n",
       " (u'cigarette', 'NN'),\n",
       " (u'smoke', 'NN'),\n",
       " (u'.', '.'),\n",
       " (u'Having', 'VBG'),\n",
       " (u'my', 'PRP$'),\n",
       " (u'hair', 'NN'),\n",
       " (u'washed', 'VBD'),\n",
       " (u'was', 'VBD'),\n",
       " (u'very', 'RB'),\n",
       " (u'unpleasant', 'JJ'),\n",
       " (u'while', 'IN'),\n",
       " (u'she', 'PRP'),\n",
       " (u'stood', 'VBD'),\n",
       " (u'over', 'IN'),\n",
       " (u'me', 'PRP'),\n",
       " (u'.', '.'),\n",
       " (u'I', 'PRP'),\n",
       " (u'think', 'VBP'),\n",
       " (u'she', 'PRP'),\n",
       " (u'was', 'VBD'),\n",
       " (u'new', 'JJ'),\n",
       " (u'to', 'TO'),\n",
       " (u'cutting', 'VBG'),\n",
       " (u'hair', 'NN'),\n",
       " (u'because', 'IN'),\n",
       " (u'she', 'PRP'),\n",
       " (u'seemed', 'VBD'),\n",
       " (u'unsure', 'NN'),\n",
       " (u'of', 'IN'),\n",
       " (u'herself', 'NN'),\n",
       " (u'.', '.'),\n",
       " (u'The', 'DT'),\n",
       " (u'bush', 'NN'),\n",
       " (u'she', 'PRP'),\n",
       " (u'used', 'VBD'),\n",
       " (u'on', 'IN'),\n",
       " (u'me', 'PRP'),\n",
       " (u'was', 'VBD'),\n",
       " (u'full', 'JJ'),\n",
       " (u'of', 'IN'),\n",
       " (u'other', 'JJ'),\n",
       " (u'people', 'NNS'),\n",
       " (u\"'s\", 'POS'),\n",
       " (u'hair', 'NN'),\n",
       " (u'and', 'CC'),\n",
       " (u'looked', 'VBD'),\n",
       " (u'like', 'IN'),\n",
       " (u'it', 'PRP'),\n",
       " (u'had', 'VBD'),\n",
       " (u'never', 'RB'),\n",
       " (u'been', 'VBN'),\n",
       " (u'cleaned', 'VBN'),\n",
       " (u'.', '.'),\n",
       " (u'When', 'WRB'),\n",
       " (u'she', 'PRP'),\n",
       " (u'took', 'VBD'),\n",
       " (u'off', 'RP'),\n",
       " (u'my', 'PRP$'),\n",
       " (u'cape', 'NN'),\n",
       " (u',', ','),\n",
       " (u'she', 'PRP'),\n",
       " (u'lifted', 'VBD'),\n",
       " (u'it', 'PRP'),\n",
       " (u'up', 'RP'),\n",
       " (u'over', 'IN'),\n",
       " (u'me', 'PRP'),\n",
       " (u',', ','),\n",
       " (u'instead', 'RB'),\n",
       " (u'of', 'IN'),\n",
       " (u'to', 'TO'),\n",
       " (u'the', 'DT'),\n",
       " (u'side', 'NN'),\n",
       " (u',', ','),\n",
       " (u'depositing', 'VBG'),\n",
       " (u'all', 'DT'),\n",
       " (u'my', 'PRP$'),\n",
       " (u'hair', 'NN'),\n",
       " (u'right', 'RB'),\n",
       " (u'in', 'IN'),\n",
       " (u'my', 'PRP$'),\n",
       " (u'lap', 'NN'),\n",
       " (u'.', '.'),\n",
       " (u'I', 'PRP'),\n",
       " (u\"'m\", 'VBP'),\n",
       " (u'satisfied', 'JJ'),\n",
       " (u'with', 'IN'),\n",
       " (u'my', 'PRP$'),\n",
       " (u'haircut', 'NN'),\n",
       " (u',', ','),\n",
       " (u'but', 'CC'),\n",
       " (u'with', 'IN'),\n",
       " (u'a', 'DT'),\n",
       " (u'little', 'JJ'),\n",
       " (u'training', 'NN'),\n",
       " (u',', ','),\n",
       " (u'my', 'PRP$'),\n",
       " (u'stylist', 'NN'),\n",
       " (u'could', 'MD'),\n",
       " (u'have', 'VB'),\n",
       " (u'given', 'VBN'),\n",
       " (u'me', 'PRP'),\n",
       " (u'a', 'DT'),\n",
       " (u'much', 'JJ'),\n",
       " (u'nicer', 'NN'),\n",
       " (u'experience', 'NN'),\n",
       " (u'.', '.'),\n",
       " (u'Lastly', 'RB'),\n",
       " (u',', ','),\n",
       " (u'I', 'PRP'),\n",
       " (u'think', 'VBP'),\n",
       " (u'it', 'PRP'),\n",
       " (u\"'s\", 'VBZ'),\n",
       " (u'very', 'RB'),\n",
       " (u'unprofessional', 'JJ'),\n",
       " (u'that', 'IN'),\n",
       " (u'a', 'DT'),\n",
       " (u'lot', 'NN'),\n",
       " (u'of', 'IN'),\n",
       " (u'the', 'DT'),\n",
       " (u'stylists', 'NNS'),\n",
       " (u'were', 'VBD'),\n",
       " (u'wearing', 'VBG'),\n",
       " (u'flip', 'NN'),\n",
       " (u'flops', 'NNS'),\n",
       " (u'.', '.'),\n",
       " (u'This', 'DT'),\n",
       " (u'is', 'VBZ'),\n",
       " (u'supposed', 'VBN'),\n",
       " (u'to', 'TO'),\n",
       " (u'be', 'VB'),\n",
       " (u'a', 'DT'),\n",
       " (u'nice', 'JJ'),\n",
       " (u'salon', 'NN'),\n",
       " (u',', ','),\n",
       " (u'not', 'RB'),\n",
       " (u'the', 'DT'),\n",
       " (u'beach', 'NN'),\n",
       " (u'.', '.'),\n",
       " (u'I', 'PRP'),\n",
       " (u'hope', 'VBP'),\n",
       " (u'things', 'NNS'),\n",
       " (u'will', 'MD'),\n",
       " (u'improve', 'VB'),\n",
       " (u'.', '.')]"
      ]
     },
     "execution_count": 18,
     "metadata": {},
     "output_type": "execute_result"
    }
   ],
   "source": [
    "stokens = word_tokenize(s['text'])\n",
    "nltk.pos_tag(stokens)"
   ]
  },
  {
   "cell_type": "code",
   "execution_count": 28,
   "metadata": {
    "collapsed": true
   },
   "outputs": [],
   "source": [
    "from nltk.sentiment import SentimentAnalyzer\n",
    "from nltk.sentiment.util import *"
   ]
  },
  {
   "cell_type": "code",
   "execution_count": 30,
   "metadata": {
    "collapsed": false
   },
   "outputs": [],
   "source": [
    "import nltk.sentiment.vader"
   ]
  },
  {
   "cell_type": "code",
   "execution_count": 31,
   "metadata": {
    "collapsed": false
   },
   "outputs": [],
   "source": [
    "from nltk.sentiment.vader import SentimentIntensityAnalyzer"
   ]
  },
  {
   "cell_type": "code",
   "execution_count": 34,
   "metadata": {
    "collapsed": false
   },
   "outputs": [],
   "source": [
    "sid = SentimentIntensityAnalyzer()"
   ]
  },
  {
   "cell_type": "code",
   "execution_count": 36,
   "metadata": {
    "collapsed": false
   },
   "outputs": [
    {
     "data": {
      "text/plain": [
       "{'compound': -0.4285, 'neg': 0.132, 'neu': 0.769, 'pos': 0.1}"
      ]
     },
     "execution_count": 36,
     "metadata": {},
     "output_type": "execute_result"
    }
   ],
   "source": [
    "sid.polarity_scores(s['text'])"
   ]
  },
  {
   "cell_type": "code",
   "execution_count": 37,
   "metadata": {
    "collapsed": false
   },
   "outputs": [
    {
     "data": {
      "text/plain": [
       "{u'business_id': u'lz5nqlBp80xVfxc7QJKkfQ',\n",
       " u'date': u'2012-06-29',\n",
       " u'review_id': u'LfI8I4cCZ0nRmu5Saaohgw',\n",
       " u'stars': 2,\n",
       " u'text': u\"Needs work!  The stylist who cut my hair today reeked of cigarette smoke.  Having my hair washed was very unpleasant while she stood over me.  I think she was new to cutting hair because she seemed unsure of herself.  The bush she used on me was full of other people's hair and looked like it had never been cleaned.  When she took off my cape, she lifted it up over me, instead of to the side, depositing all my hair right in my lap.  I'm satisfied with my haircut, but with a little training, my stylist could have given me a much nicer experience.  Lastly, I think it's very unprofessional that a lot of the stylists were wearing flip flops.  This is supposed to be a nice salon, not the beach.  I hope things will improve.\",\n",
       " u'type': u'review',\n",
       " u'user_id': u'JuiWX7yAyuQhFxsUx9LP9w',\n",
       " u'votes': {u'cool': 0, u'funny': 0, u'useful': 0}}"
      ]
     },
     "execution_count": 37,
     "metadata": {},
     "output_type": "execute_result"
    }
   ],
   "source": [
    "s"
   ]
  },
  {
   "cell_type": "code",
   "execution_count": null,
   "metadata": {
    "collapsed": true
   },
   "outputs": [],
   "source": []
  }
 ],
 "metadata": {
  "kernelspec": {
   "display_name": "Python 2",
   "language": "python",
   "name": "python2"
  },
  "language_info": {
   "codemirror_mode": {
    "name": "ipython",
    "version": 2
   },
   "file_extension": ".py",
   "mimetype": "text/x-python",
   "name": "python",
   "nbconvert_exporter": "python",
   "pygments_lexer": "ipython2",
   "version": "2.7.10"
  }
 },
 "nbformat": 4,
 "nbformat_minor": 0
}
